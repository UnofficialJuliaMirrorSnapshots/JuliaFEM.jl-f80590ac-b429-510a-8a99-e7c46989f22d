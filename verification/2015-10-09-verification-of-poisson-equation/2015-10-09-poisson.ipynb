{
 "cells": [
  {
   "cell_type": "markdown",
   "metadata": {},
   "source": [
    "# First verification, heat equation\n",
    "\n",
    "Author: Jukka Aho\n",
    "\n",
    "**Abstract**: ?"
   ]
  },
  {
   "cell_type": "markdown",
   "metadata": {},
   "source": [
    "## Problem description\n"
   ]
  },
  {
   "cell_type": "markdown",
   "metadata": {},
   "source": [
    "## Theory / solution\n",
    "\n",
    "- Reference, uncertainty"
   ]
  },
  {
   "cell_type": "markdown",
   "metadata": {},
   "source": [
    "## Implementation in JuliaFEM\n",
    "\n",
    "- Mesh, boundary conditions, etc."
   ]
  },
  {
   "cell_type": "code",
   "execution_count": 3,
   "metadata": {
    "collapsed": false
   },
   "outputs": [
    {
     "name": "stderr",
     "output_type": "stream",
     "text": [
      "20-loka 15:50:52:DEBUG:root:total dofs: 4\n"
     ]
    },
    {
     "name": "stdout",
     "output_type": "stream",
     "text": [
      "Residual norm: 9.845568954283847e-14\n",
      "Array{T,1}[[0.0,0.0],[0.25,0.0],[0.5,0.0],[0.75,0.0],[1.0,0.0]]\n",
      "[100.00000000000003,100.00000000000003,100.00000000000003,100.00000000000003,100.00000000000003]\n"
     ]
    }
   ],
   "source": [
    "using JuliaFEM: Seg2, Quad4, FieldSet, Field, PlaneHeatProblem, DirichletProblem, SimpleSolver, interpolate\n",
    "\n",
    "# Define Problem 1:\n",
    "# - Field function: Laplace equation Δu=0 in Ω={u∈R²|(x,y)∈[0,1]×[0,1]}\n",
    "# - Neumann boundary on Γ₁={0<=x<=1, y=0}, ∂u/∂n=600 on Γ₁\n",
    "\n",
    "el1 = Quad4([1, 2, 3, 4])\n",
    "push!(el1, FieldSet(\"geometry\", [Field(0.0, Vector[[0.0, 0.0], [1.0, 0.0], [1.0, 1.0], [0.0, 1.0]])]))\n",
    "push!(el1, FieldSet(\"temperature thermal conductivity\", [Field(0.0, 6.0)]))\n",
    "\n",
    "el2 = Seg2([1, 2])\n",
    "push!(el2, FieldSet(\"geometry\", [Field(0.0, Vector[[0.0, 0.0], [1.0, 0.0]])]))\n",
    "\n",
    "# Boundary load, linear ramp 0 -> 600 at time 0 -> 1\n",
    "load = FieldSet(\"temperature flux\")\n",
    "push!(load, Field(0.0, 0.0))\n",
    "push!(load, Field(1.0, 600.0))\n",
    "push!(el2, load)\n",
    "\n",
    "problem1 = PlaneHeatProblem()\n",
    "push!(problem1, el1)\n",
    "push!(problem1, el2)\n",
    "\n",
    "# Define Problem 2:\n",
    "# - Dirichlet boundary Γ₂={0<=x<=1, y=1}, u=0 on Γ₂\n",
    "\n",
    "el3 = Seg2([3, 4])\n",
    "push!(el3, FieldSet(\"geometry\", [Field(0.0, Vector[[1.0, 1.0], [0.0, 1.0]])]))\n",
    "\n",
    "problem2 = DirichletProblem()\n",
    "push!(problem2, el3)\n",
    "\n",
    "# Create a solver for a set of problems\n",
    "solver = SimpleSolver()\n",
    "push!(solver, problem1)\n",
    "push!(solver, problem2)\n",
    "\n",
    "# Solve problem at time t=1.0 and update fields\n",
    "call(solver, 1.0)\n",
    "\n",
    "# Postprocess.\n",
    "# Interpolate temperature field along boundary of Γ₁ at time t=1.0\n",
    "xi = linspace([-1.0], [1.0], 5)\n",
    "X = interpolate(el2, \"geometry\", xi, 1.0)\n",
    "T = interpolate(el2, \"temperature\", xi, 1.0)\n",
    "println(X)\n",
    "println(T)"
   ]
  },
  {
   "cell_type": "markdown",
   "metadata": {},
   "source": [
    "## Comparison of results"
   ]
  },
  {
   "cell_type": "markdown",
   "metadata": {
    "collapsed": true
   },
   "source": [
    "We should have T=100 in edge."
   ]
  },
  {
   "cell_type": "code",
   "execution_count": 4,
   "metadata": {
    "collapsed": false
   },
   "outputs": [
    {
     "data": {
      "text/plain": [
       "Success :: (line:-1) :: fact was true\n",
       "  Expression: mean(T) --> roughly(100.0)\n",
       "    Expected: 100.0\n",
       "    Occurred: 100.00000000000003"
      ]
     },
     "execution_count": 4,
     "metadata": {},
     "output_type": "execute_result"
    }
   ],
   "source": [
    "using FactCheck\n",
    "@fact mean(T) --> roughly(100.0)"
   ]
  }
 ],
 "metadata": {
  "kernelspec": {
   "display_name": "Julia 0.4.0",
   "language": "julia",
   "name": "julia-0.4"
  },
  "language_info": {
   "file_extension": ".jl",
   "mimetype": "application/julia",
   "name": "julia",
   "version": "0.4.0"
  }
 },
 "nbformat": 4,
 "nbformat_minor": 0
}
